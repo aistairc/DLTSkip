{
 "cells": [
  {
   "cell_type": "code",
   "execution_count": 1,
   "metadata": {},
   "outputs": [],
   "source": [
    "import tsc\n",
    "from sklearn import neighbors, svm, tree, ensemble, naive_bayes, linear_model, discriminant_analysis"
   ]
  },
  {
   "cell_type": "code",
   "execution_count": 2,
   "metadata": {},
   "outputs": [],
   "source": [
    "names = ['Gun_Point']\n",
    "\n",
    "num_divisions = 3\n",
    "\n",
    "classifiers = [\n",
    "    neighbors.KNeighborsClassifier(n_neighbors=1),\n",
    "    linear_model.LogisticRegression(),\n",
    "]\n",
    "\n",
    "classifier_names = [\n",
    "    'k-Nearest Neighbors (k=1)',\n",
    "    'Logistic Regression',\n",
    "]\n",
    "\n",
    "grid_params = {\n",
    "    'time_scale': [1],\n",
    "    'window_size': [80],  # [8, 16, 24, 32, 40],\n",
    "    'lambda1': [0.1],  # [0.1, 0.2, 0.5, 1.0],\n",
    "    'num_atoms_ratio': [2],  # num_atoms / window_size\n",
    "    'interval_ratio': [1, 1/2, 1/4, 1/8],  # interval / window_size\n",
    "    'extract_mode': ['max', 'sum', 'mean', 'hist'],\n",
    "    'classifier': classifiers,\n",
    "    'classifier_name': classifier_names,\n",
    "}"
   ]
  },
  {
   "cell_type": "code",
   "execution_count": 3,
   "metadata": {
    "scrolled": true
   },
   "outputs": [
    {
     "name": "stdout",
     "output_type": "stream",
     "text": [
      "\n",
      "**************************************************************\n",
      "Gun_Point\n",
      "\n",
      "num_data = 200\n",
      "num_training_data = 50\n",
      "num_test_data = 150\n",
      "num_sensors = 1\n",
      "min_length = 150\n",
      "max_length = 150\n",
      "num_labels = 2\n",
      "*** fit\n",
      "\n",
      "division = 1 / 3\n",
      "training = [1, 3, 6, 9, 10, 11, 13, 14, 16, 17, 18, 19, 21, 22, 23, 24, 25, 26, 27, 28, 30, 33, 34, 36, 37, 38, 40, 43, 45, 46, 47, 48, 49]\n",
      "validation = [0, 2, 4, 5, 7, 8, 12, 15, 20, 29, 31, 32, 35, 39, 41, 42, 44]\n",
      "time_scale=1, window_size=80, num_atoms=160\n"
     ]
    },
    {
     "name": "stderr",
     "output_type": "stream",
     "text": [
      "/home/genta/デスクトップ/DLTSkip/python/data.py:156: FutureWarning: Method .as_matrix will be removed in a future version. Use .values instead.\n",
      "  original.append(df.as_matrix())\n"
     ]
    },
    {
     "name": "stdout",
     "output_type": "stream",
     "text": [
      "\n",
      "division = 2 / 3\n",
      "training = [0, 1, 2, 4, 5, 7, 8, 9, 12, 13, 15, 16, 18, 19, 20, 22, 23, 24, 25, 27, 29, 31, 32, 34, 35, 37, 39, 41, 42, 43, 44, 47, 48, 49]\n",
      "validation = [3, 6, 10, 11, 14, 17, 21, 26, 28, 30, 33, 36, 38, 40, 45, 46]\n",
      "time_scale=1, window_size=80, num_atoms=160\n",
      "\n",
      "division = 3 / 3\n",
      "training = [0, 2, 3, 4, 5, 6, 7, 8, 10, 11, 12, 14, 15, 17, 20, 21, 26, 28, 29, 30, 31, 32, 33, 35, 36, 38, 39, 40, 41, 42, 44, 45, 46]\n",
      "validation = [1, 9, 13, 16, 18, 19, 22, 23, 24, 25, 27, 34, 37, 43, 47, 48, 49]\n",
      "time_scale=1, window_size=80, num_atoms=160\n",
      "\n",
      "*** predict\n",
      "\n",
      "{'time_scale': 1, 'window_size': 80, 'lambda1': 0.1, 'num_atoms': 160, 'interval': 20, 'extract_mode': 'max', 'classifier': LogisticRegression(C=1.0, class_weight=None, dual=False, fit_intercept=True,\n",
      "          intercept_scaling=1, max_iter=100, multi_class='ovr', n_jobs=1,\n",
      "          penalty='l2', random_state=None, solver='liblinear', tol=0.0001,\n",
      "          verbose=0, warm_start=False), 'classifier_name': 'Logistic Regression'}\n",
      "compression_rate = 0.2896\n",
      "RMSE = 0.028540389318031552\n",
      "[[67  9]\n",
      " [ 0 74]]\n",
      "error_rate = 0.06000000000000005\n"
     ]
    }
   ],
   "source": [
    "for name in names:\n",
    "    # grid search\n",
    "    gs = tsc.GridSearchUCR(name, num_divisions)\n",
    "    best_param = gs.fit(grid_params)\n",
    "    gs.predict([best_param])"
   ]
  },
  {
   "cell_type": "code",
   "execution_count": null,
   "metadata": {},
   "outputs": [],
   "source": []
  }
 ],
 "metadata": {
  "kernelspec": {
   "display_name": "Python 3",
   "language": "python",
   "name": "python3"
  },
  "language_info": {
   "codemirror_mode": {
    "name": "ipython",
    "version": 3
   },
   "file_extension": ".py",
   "mimetype": "text/x-python",
   "name": "python",
   "nbconvert_exporter": "python",
   "pygments_lexer": "ipython3",
   "version": "3.6.5"
  }
 },
 "nbformat": 4,
 "nbformat_minor": 2
}
